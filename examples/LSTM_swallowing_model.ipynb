{
  "cells": [
    {
      "cell_type": "code",
      "execution_count": 2,
      "metadata": {
        "collapsed": false
      },
      "outputs": [],
      "source": [
        "%matplotlib inline"
      ]
    },
    {
      "cell_type": "code",
      "execution_count": 3,
      "metadata": {
        "collapsed": false
      },
      "outputs": [
        {
          "data": {
            "text/plain": [
              "<torch._C.Generator at 0x10fb0dc90>"
            ]
          },
          "execution_count": 3,
          "metadata": {},
          "output_type": "execute_result"
        }
      ],
      "source": [
        "import torch\n",
        "import torch.nn as nn\n",
        "import torch.nn.functional as F\n",
        "import torch.optim as optim\n",
        "\n",
        "torch.manual_seed(1)"
      ]
    },
    {
      "cell_type": "markdown",
      "metadata": {},
      "source": [
        "Create the model:\n",
        "\n"
      ]
    },
    {
      "cell_type": "code",
      "execution_count": 4,
      "metadata": {
        "collapsed": false
      },
      "outputs": [],
      "source": [
        "class LSTMTagger(nn.Module):\n",
        "\n",
        "    def __init__(self, input_dim, hidden_dim, tagset_size):\n",
        "        super(LSTMTagger, self).__init__()\n",
        "        self.hidden_dim = hidden_dim\n",
        "\n",
        "        # The LSTM takes word embeddings as inputs, and outputs hidden states\n",
        "        # with dimensionality hidden_dim.\n",
        "        self.lstm = nn.LSTM(input_dim, hidden_dim)\n",
        "\n",
        "        # The linear layer that maps from hidden state space to tag space\n",
        "        self.hidden2tag = nn.Linear(hidden_dim, tagset_size)\n",
        "\n",
        "    def forward(self, data):\n",
        "        lstm_out, _ = self.lstm(data.view(len(data), 1, -1))\n",
        "        tag_space = self.hidden2tag(lstm_out.view(len(data), -1))\n",
        "        tag_scores = F.log_softmax(tag_space, dim=1)\n",
        "        return tag_scores\n",
        "    \n",
        "INPUT_DIM = 4\n",
        "HIDDEN_DIM = 6\n",
        "TARGET_SIZE = 4"
      ]
    },
    {
      "cell_type": "code",
      "execution_count": 6,
      "metadata": {},
      "outputs": [
        {
          "ename": "NameError",
          "evalue": "name 'data15' is not defined",
          "output_type": "error",
          "traceback": [
            "\u001b[0;31m---------------------------------------------------------------------------\u001b[0m",
            "\u001b[0;31mNameError\u001b[0m                                 Traceback (most recent call last)",
            "\u001b[1;32m/Users/fanyiyang/Desktop/Research/Phonetic Detection/pharyngeal-sensor-foldable/examples/LSTM_swallowing_model.ipynb Cell 5\u001b[0m in \u001b[0;36m<module>\u001b[0;34m\u001b[0m\n\u001b[1;32m      <a href='vscode-notebook-cell:/Users/fanyiyang/Desktop/Research/Phonetic%20Detection/pharyngeal-sensor-foldable/examples/LSTM_swallowing_model.ipynb#W4sZmlsZQ%3D%3D?line=0'>1</a>\u001b[0m \u001b[39mfrom\u001b[39;00m \u001b[39mtorchviz\u001b[39;00m \u001b[39mimport\u001b[39;00m make_dot\n\u001b[1;32m      <a href='vscode-notebook-cell:/Users/fanyiyang/Desktop/Research/Phonetic%20Detection/pharyngeal-sensor-foldable/examples/LSTM_swallowing_model.ipynb#W4sZmlsZQ%3D%3D?line=2'>3</a>\u001b[0m model \u001b[39m=\u001b[39m LSTMTagger(INPUT_DIM, HIDDEN_DIM, TARGET_SIZE)\n\u001b[0;32m----> <a href='vscode-notebook-cell:/Users/fanyiyang/Desktop/Research/Phonetic%20Detection/pharyngeal-sensor-foldable/examples/LSTM_swallowing_model.ipynb#W4sZmlsZQ%3D%3D?line=3'>4</a>\u001b[0m y \u001b[39m=\u001b[39m model(data15[\u001b[39m0\u001b[39m:\u001b[39m1\u001b[39m,])\n\u001b[1;32m      <a href='vscode-notebook-cell:/Users/fanyiyang/Desktop/Research/Phonetic%20Detection/pharyngeal-sensor-foldable/examples/LSTM_swallowing_model.ipynb#W4sZmlsZQ%3D%3D?line=4'>5</a>\u001b[0m make_dot(y\u001b[39m.\u001b[39mmean(), params\u001b[39m=\u001b[39m\u001b[39mdict\u001b[39m(model\u001b[39m.\u001b[39mnamed_parameters()))\n",
            "\u001b[0;31mNameError\u001b[0m: name 'data15' is not defined"
          ]
        }
      ],
      "source": [
        "# from torchviz import make_dot\n",
        "\n",
        "# model = LSTMTagger(INPUT_DIM, HIDDEN_DIM, TARGET_SIZE)\n",
        "# y = model(data15[0:1,])\n",
        "# make_dot(y.mean(), params=dict(model.named_parameters()))"
      ]
    },
    {
      "attachments": {},
      "cell_type": "markdown",
      "metadata": {},
      "source": [
        "Load the data, label the data, and prepare the data for LSTM"
      ]
    },
    {
      "cell_type": "code",
      "execution_count": 5,
      "metadata": {},
      "outputs": [],
      "source": [
        "import sys\n",
        "sys.path.insert(0, '../')\n",
        "\n",
        "import pandas as pd\n",
        "import numpy as np\n",
        "import matplotlib.pyplot as plt\n",
        "from denoise import pv_det_sea\n",
        "\n",
        "path_15 = '../dataset/pv/swallow/15times.txt'\n",
        "path_12 = '../dataset/pv/swallow/12times.txt'\n",
        "path_9 = '../dataset/pv/swallow/9times.txt'\n",
        "\n",
        "max_time = 20\n",
        "max_amp = 65\n",
        "\n",
        "y_interval = np.around(max_amp, -1)/3\n",
        "\n",
        "def load(path):\n",
        "    data = pd.read_csv(path,\n",
        "                       skiprows=6,\n",
        "                       delimiter='\\t').to_numpy()\n",
        "    timestamp = data[:, 0]-data[0, 0]-8\n",
        "    fs = 1000.\n",
        "    pv = data[:, 1:-1]\n",
        "    pv_det = pv_det_sea(pv=pv,\n",
        "                        fs=fs,\n",
        "                        denoise_len_s=0.2)\n",
        "    return timestamp, pv_det\n",
        "\n",
        "# data15\n",
        "timestamp_xv, xv = load(path_15)\n",
        "data15=torch.from_numpy(xv[8000:28000,].astype('float32'))\n",
        "\n",
        "#labeling: no movement=0, open mouth=1, chewing=2, swallowing=3\n",
        "target15=torch.cat((torch.zeros(2500),\n",
        "                    torch.ones(2400),\n",
        "                    2*torch.ones(9800),\n",
        "                    3*torch.ones(3000),\n",
        "                    torch.zeros(2300)),\n",
        "                    0).type(torch.LongTensor)\n",
        "\n",
        "# data12\n",
        "timestamp_xii, xii = load(path_12)\n",
        "data12=torch.from_numpy(xii[8000:28000,].astype('float32'))\n",
        "target12=torch.cat((torch.zeros(2500),\n",
        "                    torch.ones(2400),\n",
        "                    2*torch.ones(8000),\n",
        "                    3*torch.ones(3500),\n",
        "                    torch.zeros(3600)),\n",
        "                    0).type(torch.LongTensor)\n",
        "\n",
        "# data9\n",
        "timestamp_ix, ix = load(path_9)\n",
        "data9=torch.from_numpy(ix[8000:28000,].astype('float32'))\n",
        "target9=torch.cat((torch.zeros(2500),\n",
        "                    torch.ones(2400),\n",
        "                    2*torch.ones(6300),\n",
        "                    3*torch.ones(3750),\n",
        "                    torch.zeros(5050)),\n",
        "                    0).type(torch.LongTensor)\n",
        "\n"
      ]
    },
    {
      "attachments": {},
      "cell_type": "markdown",
      "metadata": {},
      "source": [
        "Pass single dataset to test the LSTM functioning"
      ]
    },
    {
      "cell_type": "code",
      "execution_count": 19,
      "metadata": {},
      "outputs": [
        {
          "name": "stdout",
          "output_type": "stream",
          "text": [
            "torch.Size([20000, 4])\n"
          ]
        }
      ],
      "source": [
        "model = LSTMTagger(INPUT_DIM, HIDDEN_DIM, TARGET_SIZE)\n",
        "loss_function = nn.NLLLoss()\n",
        "optimizer = optim.SGD(model.parameters(), lr=0.1)\n",
        "\n",
        "# See what the scores are before training\n",
        "# Note that element i,j of the output is the score for tag j for word i.\n",
        "# Here we don't need to train, so the code is wrapped in torch.no_grad()\n",
        "with torch.no_grad():\n",
        "    inputs = data15\n",
        "    tag_scores = model(inputs)\n",
        "    print(tag_scores.size())\n"
      ]
    },
    {
      "cell_type": "markdown",
      "metadata": {},
      "source": [
        "Train the model:\n",
        "\n"
      ]
    },
    {
      "cell_type": "code",
      "execution_count": 20,
      "metadata": {
        "collapsed": false
      },
      "outputs": [
        {
          "data": {
            "text/plain": [
              "[<matplotlib.lines.Line2D at 0x293189880>]"
            ]
          },
          "execution_count": 20,
          "metadata": {},
          "output_type": "execute_result"
        },
        {
          "data": {
            "image/png": "[encoded data removed]",
            "text/plain": [
              "<Figure size 2000x1000 with 1 Axes>"
            ]
          },
          "metadata": {},
          "output_type": "display_data"
        }
      ],
      "source": [
        "losses = []\n",
        "epochs = []\n",
        "train = [data15, data12]\n",
        "labels = [target15, target12]\n",
        "test = data9\n",
        "for epoch in range(30):  \n",
        "    for data, label in zip(train, labels):    \n",
        "        # Step 1. Remember that Pytorch accumulates gradients.\n",
        "        # We need to clear them out before each instance\n",
        "        model.zero_grad()\n",
        "\n",
        "        # Step 2. Run our forward pass.\n",
        "        tag_scores = model(data)\n",
        "\n",
        "        # Step 3. Compute the loss, gradients, and update the parameters by\n",
        "        #  calling optimizer.step()\n",
        "        loss = loss_function(tag_scores, label)\n",
        "        loss.backward()\n",
        "\n",
        "        optimizer.step()\n",
        "\n",
        "    #record the test error value for each epoch    \n",
        "    with torch.no_grad():\n",
        "             tag_scores = model(test)\n",
        "             test_loss = loss_function(tag_scores, target9)\n",
        "             losses.append(test_loss.item())\n",
        "             epochs.append(epoch+1)\n",
        "\n",
        "fig, axes = plt.subplots(nrows=1,ncols=1)\n",
        "fig.set_size_inches(20, 10)\n",
        "\n",
        "axes.plot(epochs, losses)\n",
        "# See what the scores are after training\n",
        "# with torch.no_grad():\n",
        "#     inputs = prepare_sequence(training_data[0][0], word_to_ix)\n",
        "#     tag_scores = model(inputs)\n",
        "\n",
        "#     # The sentence is \"the dog ate the apple\".  i,j corresponds to score for tag j\n",
        "#     # for word i. The predicted tag is the maximum scoring tag.\n",
        "#     # Here, we can see the predicted sequence below is 0 1 2 0 1\n",
        "#     # since 0 is index of the maximum value of row 1,\n",
        "#     # 1 is the index of maximum value of row 2, etc.\n",
        "#     # Which is DET NOUN VERB DET NOUN, the correct sequence!\n",
        "#     print(tag_scores)"
      ]
    },
    {
      "cell_type": "code",
      "execution_count": 21,
      "metadata": {},
      "outputs": [
        {
          "data": {
            "text/plain": [
              "tensor([[-1.2426, -1.9674, -1.0180, -1.5597],\n",
              "        [-1.2258, -2.0074, -1.0099, -1.5709],\n",
              "        [-1.2158, -2.0235, -0.9990, -1.5940],\n",
              "        ...,\n",
              "        [-1.0541, -2.0690, -1.0645, -1.7133],\n",
              "        [-1.0538, -2.0690, -1.0648, -1.7133],\n",
              "        [-1.0534, -2.0690, -1.0651, -1.7134]], grad_fn=<LogSoftmaxBackward0>)"
            ]
          },
          "execution_count": 21,
          "metadata": {},
          "output_type": "execute_result"
        }
      ],
      "source": [
        "result = model(data9)\n",
        "result"
      ]
    }
  ],
  "metadata": {
    "kernelspec": {
      "display_name": "Python 3",
      "language": "python",
      "name": "python3"
    },
    "language_info": {
      "codemirror_mode": {
        "name": "ipython",
        "version": 3
      },
      "file_extension": ".py",
      "mimetype": "text/x-python",
      "name": "python",
      "nbconvert_exporter": "python",
      "pygments_lexer": "ipython3",
      "version": "3.10.1"
    },
    "vscode": {
      "interpreter": {
        "hash": "aee8b7b246df8f9039afb4144a1f6fd8d2ca17a180786b69acc140d282b71a49"
      }
    }
  },
  "nbformat": 4,
  "nbformat_minor": 0
}
