{
 "cells": [
  {
   "cell_type": "code",
   "execution_count": 55,
   "metadata": {},
   "outputs": [],
   "source": [
    "import pandas as pd\n",
    "import numpy as np\n",
    "import matplotlib.pyplot as plt\n",
    "\n",
    "# load pv data for continuous_1\n",
    "path = '../dataset/pv/20230309/continuous_1.gz'\n",
    "data = pd.read_csv(path, compression='gzip', skiprows=7, delimiter='\\t',header=None)\n",
    "start_s=0\n",
    "end_s=5\n",
    "ms=False\n",
    "# data = data[:][:-7] #remove the final 7 rows for continuous_2 dataset\n",
    "for j in range(len(data.columns)):\n",
    "    data[j] = [float(i) for i in data[j]]\n",
    "    \n",
    "if not ms:  \n",
    "    ts = data[0][1]-data[0][0]\n",
    "    fs = int(np.rint(1/ts))\n",
    "else:\n",
    "    ts = (data[0][1]-data[0][0])/1000\n",
    "    fs = int(np.rint(1/ts))\n",
    "\n",
    "time = data[0][int(start_s*fs): int(end_s*fs)].to_numpy()-data[0][0]-start_s\n",
    "pv = data[data.columns[1:]][int(start_s*fs): int(end_s*fs)].to_numpy()\n",
    "audio = np.zeros(end_s*fs - start_s*fs)"
   ]
  },
  {
   "cell_type": "code",
   "execution_count": 59,
   "metadata": {},
   "outputs": [
    {
     "name": "stdout",
     "output_type": "stream",
     "text": [
      "(5000,)\n",
      "(51, 101)\n",
      "[[ 1.80738223e+02+0.00000000e+00j  3.54520391e+02+0.00000000e+00j\n",
      "   3.54640420e+02+0.00000000e+00j ...  3.59572523e+02+0.00000000e+00j\n",
      "   3.59622355e+02+0.00000000e+00j  1.76224152e+02+0.00000000e+00j]\n",
      " [-9.21365853e+01+1.12758408e+02j -1.77270007e+02+4.71014466e-02j\n",
      "  -1.77327033e+02+1.68386128e-02j ... -1.79799575e+02+4.50232325e-02j\n",
      "  -1.79806864e+02-2.62849537e-02j -8.63224185e+01-1.14432688e+02j]\n",
      " [ 3.54922812e+00-7.50998475e+01j  8.93745742e-03-1.45578617e-02j\n",
      "   1.65148261e-02-8.52988744e-03j ...  1.52688061e-02+4.78681786e-03j\n",
      "  -7.34507256e-03+3.03296748e-02j -3.58944061e+00+7.62416886e+01j]\n",
      " ...\n",
      " [ 3.54598843e+00-2.33615051e-01j  5.46000709e-03+9.14810337e-03j\n",
      "   7.89161940e-03+1.40455370e-02j ... -6.92122848e-05+1.15915026e-03j\n",
      "  -7.41645318e-05+2.02675773e-03j -3.60846539e+00+2.25259841e-01j]\n",
      " [-3.54070220e+00+1.19739713e-01j -8.51028292e-03-8.79820655e-03j\n",
      "  -1.35210187e-02-1.15133502e-02j ...  4.98469470e-03-8.06547267e-03j\n",
      "  -8.27410170e-03+1.37621877e-03j  3.60788826e+00-1.12196649e-01j]\n",
      " [ 3.53617406e+00+0.00000000e+00j  4.62194809e-03+0.00000000e+00j\n",
      "   1.97913696e-02+0.00000000e+00j ... -5.93360125e-03+0.00000000e+00j\n",
      "   1.28178974e-02+0.00000000e+00j -3.60678316e+00+0.00000000e+00j]]\n"
     ]
    },
    {
     "data": {
      "text/plain": [
       "<matplotlib.image.AxesImage at 0x2a17dae60>"
      ]
     },
     "execution_count": 59,
     "metadata": {},
     "output_type": "execute_result"
    },
    {
     "data": {
      "image/png": "[encoded data removed]",
      "text/plain": [
       "<Figure size 432x288 with 1 Axes>"
      ]
     },
     "metadata": {
      "needs_background": "light"
     },
     "output_type": "display_data"
    }
   ],
   "source": [
    "from scipy import signal\n",
    "\n",
    "print(np.shape(pv[:,0]))\n",
    "# perform fft on pv data with window length of 0.1s\n",
    "f, t, Zxx = signal.stft(pv[:,0], fs, nperseg=100, axis=-1)\n",
    "\n",
    "print(np.shape(Zxx))\n",
    "print(Zxx)\n",
    "#plt.plot(pv)\n",
    "plt.imshow(np.abs(Zxx[:,0:900]),vmax=0.1,vmin=0)"
   ]
  },
  {
   "cell_type": "code",
   "execution_count": 3,
   "metadata": {},
   "outputs": [],
   "source": [
    "import torch\n",
    "import torch.nn as nn\n",
    "import torch.nn.functional as F\n",
    "import torch.optim as optim"
   ]
  },
  {
   "cell_type": "code",
   "execution_count": null,
   "metadata": {},
   "outputs": [],
   "source": [
    "class LSTMTagger(nn.Module):\n",
    "\n",
    "    def __init__(self, input_dim, hidden_dim, tagset_size):\n",
    "        super(LSTMTagger, self).__init__()\n",
    "        self.hidden_dim = hidden_dim\n",
    "\n",
    "        # The LSTM takes word embeddings as inputs, and outputs hidden states\n",
    "        # with dimensionality hidden_dim.\n",
    "        self.lstm = nn.LSTM(input_dim, hidden_dim)\n",
    "\n",
    "        # The linear layer that maps from hidden state space to tag space\n",
    "        self.hidden2tag = nn.Linear(hidden_dim, tagset_size)\n",
    "\n",
    "    def forward(self, data):\n",
    "        lstm_out, _ = self.lstm(data.view(len(data), 1, -1))\n",
    "        tag_space = self.hidden2tag(lstm_out.view(len(data), -1))\n",
    "        tag_scores = F.log_softmax(tag_space, dim=1)\n",
    "        return tag_scores\n",
    "    \n",
    "INPUT_DIM = 4\n",
    "HIDDEN_DIM = 6\n",
    "TARGET_SIZE = 4"
   ]
  }
 ],
 "metadata": {
  "kernelspec": {
   "display_name": "Python 3",
   "language": "python",
   "name": "python3"
  },
  "language_info": {
   "codemirror_mode": {
    "name": "ipython",
    "version": 3
   },
   "file_extension": ".py",
   "mimetype": "text/x-python",
   "name": "python",
   "nbconvert_exporter": "python",
   "pygments_lexer": "ipython3",
   "version": "3.10.1"
  },
  "orig_nbformat": 4,
  "vscode": {
   "interpreter": {
    "hash": "aee8b7b246df8f9039afb4144a1f6fd8d2ca17a180786b69acc140d282b71a49"
   }
  }
 },
 "nbformat": 4,
 "nbformat_minor": 2
}
