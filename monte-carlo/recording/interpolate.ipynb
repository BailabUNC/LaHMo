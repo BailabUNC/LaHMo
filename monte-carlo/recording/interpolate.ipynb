{
 "cells": [
  {
   "cell_type": "code",
   "execution_count": 104,
   "metadata": {},
   "outputs": [
    {
     "data": {
      "text/plain": [
       "array(['D', 'C', 'T', 'S'], dtype=object)"
      ]
     },
     "execution_count": 104,
     "metadata": {},
     "output_type": "execute_result"
    }
   ],
   "source": [
    "import pandas as pd\n",
    "import numpy as np\n",
    "from scipy.interpolate import *\n",
    "import matplotlib.pyplot as plt\n",
    "\n",
    "data = pd.read_csv('1.txt', encoding='utf-8', delimiter='\\t', header=None)\n",
    "timestamps = np.array(data.iloc[:, 0])\n",
    "centers = np.array(data.iloc[:, 1])\n",
    "heights = np.array(data.iloc[:, 2])\n",
    "labels_orig = np.array(data.iloc[:, 3])\n",
    "_, idx = np.unique(labels_orig, return_index=True)\n",
    "labels_unique = labels_orig[np.sort(idx)]\n",
    "\n",
    "action_start = []\n",
    "action_end = []\n",
    "\n",
    "for label in labels_unique:\n",
    "    action_start.append(timestamps[np.where(labels_orig == label)[0][0]])\n",
    "    action_end.append(timestamps[np.where(labels_orig == label)[0][-1]])\n",
    "\n",
    "action_start = np.array(action_start)\n",
    "action_end = np.array(action_end)\n",
    "\n",
    "labels_unique"
   ]
  },
  {
   "cell_type": "code",
   "execution_count": 107,
   "metadata": {},
   "outputs": [],
   "source": [
    "action_period = action_end - action_start"
   ]
  },
  {
   "cell_type": "code",
   "execution_count": 152,
   "metadata": {},
   "outputs": [
    {
     "data": {
      "text/plain": [
       "145"
      ]
     },
     "execution_count": 152,
     "metadata": {},
     "output_type": "execute_result"
    }
   ],
   "source": [
    "category = 3\n",
    "action = labels_unique[category]\n",
    "\n",
    "section_timestamps = []\n",
    "section_centers = []\n",
    "section_heights = []\n",
    "\n",
    "for idx, t in enumerate(timestamps):\n",
    "    if action_start[category] <= t <= action_end[category]:\n",
    "        section_timestamps.append(timestamps[idx])\n",
    "        section_centers.append(centers[idx])\n",
    "        section_heights.append(heights[idx])\n",
    "\n",
    "section_timestamps_new = np.arange(section_timestamps[0], section_timestamps[-1], 1)\n",
    "actions = np.tile(action, len(section_timestamps_new))\n",
    "\n",
    "len(section_timestamps_new)"
   ]
  },
  {
   "cell_type": "code",
   "execution_count": 153,
   "metadata": {},
   "outputs": [],
   "source": [
    "interp_c = Akima1DInterpolator(section_timestamps, section_centers)\n",
    "interp_h = Akima1DInterpolator(section_timestamps, section_heights)"
   ]
  },
  {
   "cell_type": "code",
   "execution_count": 154,
   "metadata": {},
   "outputs": [
    {
     "data": {
      "text/plain": [
       "[<matplotlib.lines.Line2D at 0x2a4f570ec60>]"
      ]
     },
     "execution_count": 154,
     "metadata": {},
     "output_type": "execute_result"
    },
    {
     "data": {
      "image/png": "[encoded data removed]",
      "text/plain": [
       "<Figure size 640x480 with 1 Axes>"
      ]
     },
     "metadata": {},
     "output_type": "display_data"
    }
   ],
   "source": [
    "# plt.plot(section_timestamps, section_centers)\n",
    "# plt.plot(section_timestamps_new, interp_c(section_timestamps_new))\n",
    "\n",
    "plt.plot(section_timestamps, section_heights)\n",
    "plt.plot(section_timestamps_new, interp_h(section_timestamps_new))"
   ]
  },
  {
   "cell_type": "code",
   "execution_count": 133,
   "metadata": {},
   "outputs": [],
   "source": [
    "output_timestamps = []\n",
    "output_centers = []\n",
    "output_heights = []\n",
    "output_actions = []"
   ]
  },
  {
   "cell_type": "code",
   "execution_count": 155,
   "metadata": {},
   "outputs": [],
   "source": [
    "output_timestamps.extend(section_timestamps_new.tolist())\n",
    "output_centers.extend(interp_c(section_timestamps_new).tolist())\n",
    "output_heights.extend(interp_h(section_timestamps_new).tolist())\n",
    "output_actions.extend(actions.tolist())"
   ]
  },
  {
   "cell_type": "code",
   "execution_count": 156,
   "metadata": {},
   "outputs": [
    {
     "data": {
      "text/html": [
       "<div>\n",
       "<style scoped>\n",
       "    .dataframe tbody tr th:only-of-type {\n",
       "        vertical-align: middle;\n",
       "    }\n",
       "\n",
       "    .dataframe tbody tr th {\n",
       "        vertical-align: top;\n",
       "    }\n",
       "\n",
       "    .dataframe thead th {\n",
       "        text-align: right;\n",
       "    }\n",
       "</style>\n",
       "<table border=\"1\" class=\"dataframe\">\n",
       "  <thead>\n",
       "    <tr style=\"text-align: right;\">\n",
       "      <th></th>\n",
       "      <th>Timestamp</th>\n",
       "      <th>Center</th>\n",
       "      <th>Height</th>\n",
       "      <th>Action</th>\n",
       "    </tr>\n",
       "  </thead>\n",
       "  <tbody>\n",
       "    <tr>\n",
       "      <th>0</th>\n",
       "      <td>489.0</td>\n",
       "      <td>65.0</td>\n",
       "      <td>-5.0</td>\n",
       "      <td>D</td>\n",
       "    </tr>\n",
       "    <tr>\n",
       "      <th>1</th>\n",
       "      <td>490.0</td>\n",
       "      <td>64.900794</td>\n",
       "      <td>-4.511243</td>\n",
       "      <td>D</td>\n",
       "    </tr>\n",
       "    <tr>\n",
       "      <th>2</th>\n",
       "      <td>491.0</td>\n",
       "      <td>64.84127</td>\n",
       "      <td>-4.058201</td>\n",
       "      <td>D</td>\n",
       "    </tr>\n",
       "    <tr>\n",
       "      <th>3</th>\n",
       "      <td>492.0</td>\n",
       "      <td>64.821429</td>\n",
       "      <td>-3.660714</td>\n",
       "      <td>D</td>\n",
       "    </tr>\n",
       "    <tr>\n",
       "      <th>4</th>\n",
       "      <td>493.0</td>\n",
       "      <td>64.84127</td>\n",
       "      <td>-3.338624</td>\n",
       "      <td>D</td>\n",
       "    </tr>\n",
       "    <tr>\n",
       "      <th>...</th>\n",
       "      <td>...</td>\n",
       "      <td>...</td>\n",
       "      <td>...</td>\n",
       "      <td>...</td>\n",
       "    </tr>\n",
       "    <tr>\n",
       "      <th>438</th>\n",
       "      <td>3120.0</td>\n",
       "      <td>108.127927</td>\n",
       "      <td>-3.33687</td>\n",
       "      <td>S</td>\n",
       "    </tr>\n",
       "    <tr>\n",
       "      <th>439</th>\n",
       "      <td>3121.0</td>\n",
       "      <td>106.667943</td>\n",
       "      <td>-3.447091</td>\n",
       "      <td>S</td>\n",
       "    </tr>\n",
       "    <tr>\n",
       "      <th>440</th>\n",
       "      <td>3122.0</td>\n",
       "      <td>105.113618</td>\n",
       "      <td>-3.569057</td>\n",
       "      <td>S</td>\n",
       "    </tr>\n",
       "    <tr>\n",
       "      <th>441</th>\n",
       "      <td>3123.0</td>\n",
       "      <td>103.476491</td>\n",
       "      <td>-3.702226</td>\n",
       "      <td>S</td>\n",
       "    </tr>\n",
       "    <tr>\n",
       "      <th>442</th>\n",
       "      <td>3124.0</td>\n",
       "      <td>101.768105</td>\n",
       "      <td>-3.846054</td>\n",
       "      <td>S</td>\n",
       "    </tr>\n",
       "  </tbody>\n",
       "</table>\n",
       "<p>443 rows × 4 columns</p>\n",
       "</div>"
      ],
      "text/plain": [
       "    Timestamp      Center    Height Action\n",
       "0       489.0        65.0      -5.0      D\n",
       "1       490.0   64.900794 -4.511243      D\n",
       "2       491.0    64.84127 -4.058201      D\n",
       "3       492.0   64.821429 -3.660714      D\n",
       "4       493.0    64.84127 -3.338624      D\n",
       "..        ...         ...       ...    ...\n",
       "438    3120.0  108.127927  -3.33687      S\n",
       "439    3121.0  106.667943 -3.447091      S\n",
       "440    3122.0  105.113618 -3.569057      S\n",
       "441    3123.0  103.476491 -3.702226      S\n",
       "442    3124.0  101.768105 -3.846054      S\n",
       "\n",
       "[443 rows x 4 columns]"
      ]
     },
     "execution_count": 156,
     "metadata": {},
     "output_type": "execute_result"
    }
   ],
   "source": [
    "output = pd.DataFrame(np.row_stack((output_timestamps,\n",
    "                                    output_centers,\n",
    "                                    output_heights,\n",
    "                                    output_actions), dtype=object).T, columns=['Timestamp', 'Center', 'Height', 'Action'])\n",
    "\n",
    "output"
   ]
  },
  {
   "cell_type": "code",
   "execution_count": 157,
   "metadata": {},
   "outputs": [],
   "source": [
    "np.savetxt('2.txt', output.values, fmt='%s', delimiter='\\t')"
   ]
  }
 ],
 "metadata": {
  "kernelspec": {
   "display_name": "Python 3",
   "language": "python",
   "name": "python3"
  },
  "language_info": {
   "codemirror_mode": {
    "name": "ipython",
    "version": 3
   },
   "file_extension": ".py",
   "mimetype": "text/x-python",
   "name": "python",
   "nbconvert_exporter": "python",
   "pygments_lexer": "ipython3",
   "version": "3.12.0"
  }
 },
 "nbformat": 4,
 "nbformat_minor": 2
}
